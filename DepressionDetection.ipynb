{
  "nbformat": 4,
  "nbformat_minor": 0,
  "metadata": {
    "colab": {
      "name": "DepressionDetection.ipynb",
      "provenance": [],
      "collapsed_sections": []
    },
    "kernelspec": {
      "name": "python3",
      "display_name": "Python 3"
    },
    "language_info": {
      "name": "python"
    },
    "accelerator": "GPU"
  },
  "cells": [
    {
      "cell_type": "code",
      "metadata": {
        "colab": {
          "base_uri": "https://localhost:8080/"
        },
        "id": "z6G1x4wEVTQq",
        "outputId": "546982e9-0bf1-49f7-c403-8f02d93fd879"
      },
      "source": [
        "!pip install ftfy\n",
        "!pip install nltk\n",
        "import warnings\n",
        "warnings.filterwarnings(\"ignore\")\n",
        "import ftfy\n",
        "import matplotlib.pyplot as plt\n",
        "import nltk\n",
        "import numpy as np\n",
        "import pandas as pd\n",
        "import re\n",
        "\n",
        "from math import exp\n",
        "from numpy import sign\n",
        "\n",
        "from sklearn.metrics import  classification_report, confusion_matrix, accuracy_score\n",
        "from gensim.models import KeyedVectors\n",
        "from nltk.corpus import stopwords\n",
        "from nltk import PorterStemmer\n",
        "\n",
        "from keras.models import Model, Sequential\n",
        "from keras.callbacks import EarlyStopping, ModelCheckpoint\n",
        "from keras.layers import Conv1D, Dense, Input, LSTM, Embedding, Dropout, Activation, MaxPooling1D\n",
        "from keras.preprocessing.text import Tokenizer\n",
        "from keras.preprocessing.sequence import pad_sequences"
      ],
      "execution_count": 7,
      "outputs": [
        {
          "output_type": "stream",
          "text": [
            "Requirement already satisfied: ftfy in /usr/local/lib/python3.7/dist-packages (5.9)\n",
            "Requirement already satisfied: wcwidth in /usr/local/lib/python3.7/dist-packages (from ftfy) (0.2.5)\n",
            "Requirement already satisfied: nltk in /usr/local/lib/python3.7/dist-packages (3.2.5)\n",
            "Requirement already satisfied: six in /usr/local/lib/python3.7/dist-packages (from nltk) (1.15.0)\n"
          ],
          "name": "stdout"
        }
      ]
    },
    {
      "cell_type": "code",
      "metadata": {
        "colab": {
          "base_uri": "https://localhost:8080/"
        },
        "id": "2BBju5wTZb92",
        "outputId": "ac2933a6-7ae4-40c6-bf52-9b94e6d14c85"
      },
      "source": [
        "!wget -P /root/input/ -c \"https://s3.amazonaws.com/dl4j-distribution/GoogleNews-vectors-negative300.bin.gz\""
      ],
      "execution_count": 13,
      "outputs": [
        {
          "output_type": "stream",
          "text": [
            "--2021-03-21 06:08:03--  https://s3.amazonaws.com/dl4j-distribution/GoogleNews-vectors-negative300.bin.gz\n",
            "Resolving s3.amazonaws.com (s3.amazonaws.com)... 52.216.227.155\n",
            "Connecting to s3.amazonaws.com (s3.amazonaws.com)|52.216.227.155|:443... connected.\n",
            "HTTP request sent, awaiting response... 200 OK\n",
            "Length: 1647046227 (1.5G) [application/x-gzip]\n",
            "Saving to: ‘/root/input/GoogleNews-vectors-negative300.bin.gz’\n",
            "\n",
            "GoogleNews-vectors- 100%[===================>]   1.53G  75.9MB/s    in 25s     \n",
            "\n",
            "2021-03-21 06:08:28 (64.1 MB/s) - ‘/root/input/GoogleNews-vectors-negative300.bin.gz’ saved [1647046227/1647046227]\n",
            "\n"
          ],
          "name": "stdout"
        }
      ]
    },
    {
      "cell_type": "code",
      "metadata": {
        "colab": {
          "base_uri": "https://localhost:8080/"
        },
        "id": "NVVm9YK2Y7Dt",
        "outputId": "0192bf32-b584-49df-ca71-bad53365c37c"
      },
      "source": [
        "!pip install gensim\n",
        "from gensim.models import KeyedVectors"
      ],
      "execution_count": 14,
      "outputs": [
        {
          "output_type": "stream",
          "text": [
            "Requirement already satisfied: gensim in /usr/local/lib/python3.7/dist-packages (3.6.0)\n",
            "Requirement already satisfied: smart-open>=1.2.1 in /usr/local/lib/python3.7/dist-packages (from gensim) (4.2.0)\n",
            "Requirement already satisfied: numpy>=1.11.3 in /usr/local/lib/python3.7/dist-packages (from gensim) (1.19.5)\n",
            "Requirement already satisfied: scipy>=0.18.1 in /usr/local/lib/python3.7/dist-packages (from gensim) (1.4.1)\n",
            "Requirement already satisfied: six>=1.5.0 in /usr/local/lib/python3.7/dist-packages (from gensim) (1.15.0)\n"
          ],
          "name": "stdout"
        }
      ]
    },
    {
      "cell_type": "code",
      "metadata": {
        "colab": {
          "base_uri": "https://localhost:8080/"
        },
        "id": "A58UEWieVc3-",
        "outputId": "c32266d2-df0d-4067-a87d-937426aa4dc6"
      },
      "source": [
        "nltk.download('stopwords')\n",
        "nltk.download('punkt')"
      ],
      "execution_count": 22,
      "outputs": [
        {
          "output_type": "stream",
          "text": [
            "[nltk_data] Downloading package stopwords to /root/nltk_data...\n",
            "[nltk_data]   Package stopwords is already up-to-date!\n",
            "[nltk_data] Downloading package punkt to /root/nltk_data...\n",
            "[nltk_data]   Unzipping tokenizers/punkt.zip.\n"
          ],
          "name": "stdout"
        },
        {
          "output_type": "execute_result",
          "data": {
            "text/plain": [
              "True"
            ]
          },
          "metadata": {
            "tags": []
          },
          "execution_count": 22
        }
      ]
    },
    {
      "cell_type": "code",
      "metadata": {
        "id": "KRIHwTOQVryQ"
      },
      "source": [
        "depressive_tweets = 'depressive_tweets_processed.csv'\n",
        "random_tweets = 'Sentiment Analysis Dataset 2.csv'\n",
        "embedding_file = '/root/input/GoogleNews-vectors-negative300.bin.gz'"
      ],
      "execution_count": 16,
      "outputs": []
    },
    {
      "cell_type": "code",
      "metadata": {
        "id": "tQ-IxDXPWU6Y"
      },
      "source": [
        "depressive_tweets_df = pd.read_csv(depressive_tweets, sep = '|', header = None, usecols = range(0,9), nrows = 3200)\n",
        "random_tweets_df = pd.read_csv(random_tweets, encoding = \"ISO-8859-1\", usecols = range(0,4), nrows = 12000)"
      ],
      "execution_count": 17,
      "outputs": []
    },
    {
      "cell_type": "markdown",
      "metadata": {
        "id": "t-wUO6QnWzqB"
      },
      "source": [
        "***Preprocessing the Data***"
      ]
    },
    {
      "cell_type": "code",
      "metadata": {
        "id": "PnPbTkKlWilf"
      },
      "source": [
        "word2vec = KeyedVectors.load_word2vec_format(embedding_file, binary=True)"
      ],
      "execution_count": 18,
      "outputs": []
    },
    {
      "cell_type": "code",
      "metadata": {
        "id": "DzVEDZ7MW7fH"
      },
      "source": [
        " # Expand Contraction\n",
        "cList = {\n",
        "  \"ain't\": \"am not\",\n",
        "  \"aren't\": \"are not\",\n",
        "  \"can't\": \"cannot\",\n",
        "  \"can't've\": \"cannot have\",\n",
        "  \"'cause\": \"because\",\n",
        "  \"could've\": \"could have\",\n",
        "  \"couldn't\": \"could not\",\n",
        "  \"couldn't've\": \"could not have\",\n",
        "  \"didn't\": \"did not\",\n",
        "  \"doesn't\": \"does not\",\n",
        "  \"don't\": \"do not\",\n",
        "  \"hadn't\": \"had not\",\n",
        "  \"hadn't've\": \"had not have\",\n",
        "  \"hasn't\": \"has not\",\n",
        "  \"haven't\": \"have not\",\n",
        "  \"he'd\": \"he would\",\n",
        "  \"he'd've\": \"he would have\",\n",
        "  \"he'll\": \"he will\",\n",
        "  \"he'll've\": \"he will have\",\n",
        "  \"he's\": \"he is\",\n",
        "  \"how'd\": \"how did\",\n",
        "  \"how'd'y\": \"how do you\",\n",
        "  \"how'll\": \"how will\",\n",
        "  \"how's\": \"how is\",\n",
        "  \"I'd\": \"I would\",\n",
        "  \"I'd've\": \"I would have\",\n",
        "  \"I'll\": \"I will\",\n",
        "  \"I'll've\": \"I will have\",\n",
        "  \"I'm\": \"I am\",\n",
        "  \"I've\": \"I have\",\n",
        "  \"isn't\": \"is not\",\n",
        "  \"it'd\": \"it had\",\n",
        "  \"it'd've\": \"it would have\",\n",
        "  \"it'll\": \"it will\",\n",
        "  \"it'll've\": \"it will have\",\n",
        "  \"it's\": \"it is\",\n",
        "  \"let's\": \"let us\",\n",
        "  \"ma'am\": \"madam\",\n",
        "  \"mayn't\": \"may not\",\n",
        "  \"might've\": \"might have\",\n",
        "  \"mightn't\": \"might not\",\n",
        "  \"mightn't've\": \"might not have\",\n",
        "  \"must've\": \"must have\",\n",
        "  \"mustn't\": \"must not\",\n",
        "  \"mustn't've\": \"must not have\",\n",
        "  \"needn't\": \"need not\",\n",
        "  \"needn't've\": \"need not have\",\n",
        "  \"o'clock\": \"of the clock\",\n",
        "  \"oughtn't\": \"ought not\",\n",
        "  \"oughtn't've\": \"ought not have\",\n",
        "  \"shan't\": \"shall not\",\n",
        "  \"sha'n't\": \"shall not\",\n",
        "  \"shan't've\": \"shall not have\",\n",
        "  \"she'd\": \"she would\",\n",
        "  \"she'd've\": \"she would have\",\n",
        "  \"she'll\": \"she will\",\n",
        "  \"she'll've\": \"she will have\",\n",
        "  \"she's\": \"she is\",\n",
        "  \"should've\": \"should have\",\n",
        "  \"shouldn't\": \"should not\",\n",
        "  \"shouldn't've\": \"should not have\",\n",
        "  \"so've\": \"so have\",\n",
        "  \"so's\": \"so is\",\n",
        "  \"that'd\": \"that would\",\n",
        "  \"that'd've\": \"that would have\",\n",
        "  \"that's\": \"that is\",\n",
        "  \"there'd\": \"there had\",\n",
        "  \"there'd've\": \"there would have\",\n",
        "  \"there's\": \"there is\",\n",
        "  \"they'd\": \"they would\",\n",
        "  \"they'd've\": \"they would have\",\n",
        "  \"they'll\": \"they will\",\n",
        "  \"they'll've\": \"they will have\",\n",
        "  \"they're\": \"they are\",\n",
        "  \"they've\": \"they have\",\n",
        "  \"to've\": \"to have\",\n",
        "  \"wasn't\": \"was not\",\n",
        "  \"we'd\": \"we had\",\n",
        "  \"we'd've\": \"we would have\",\n",
        "  \"we'll\": \"we will\",\n",
        "  \"we'll've\": \"we will have\",\n",
        "  \"we're\": \"we are\",\n",
        "  \"we've\": \"we have\",\n",
        "  \"weren't\": \"were not\",\n",
        "  \"what'll\": \"what will\",\n",
        "  \"what'll've\": \"what will have\",\n",
        "  \"what're\": \"what are\",\n",
        "  \"what's\": \"what is\",\n",
        "  \"what've\": \"what have\",\n",
        "  \"when's\": \"when is\",\n",
        "  \"when've\": \"when have\",\n",
        "  \"where'd\": \"where did\",\n",
        "  \"where's\": \"where is\",\n",
        "  \"where've\": \"where have\",\n",
        "  \"who'll\": \"who will\",\n",
        "  \"who'll've\": \"who will have\",\n",
        "  \"who's\": \"who is\",\n",
        "  \"who've\": \"who have\",\n",
        "  \"why's\": \"why is\",\n",
        "  \"why've\": \"why have\",\n",
        "  \"will've\": \"will have\",\n",
        "  \"won't\": \"will not\",\n",
        "  \"won't've\": \"will not have\",\n",
        "  \"would've\": \"would have\",\n",
        "  \"wouldn't\": \"would not\",\n",
        "  \"wouldn't've\": \"would not have\",\n",
        "  \"y'all\": \"you all\",\n",
        "  \"y'alls\": \"you alls\",\n",
        "  \"y'all'd\": \"you all would\",\n",
        "  \"y'all'd've\": \"you all would have\",\n",
        "  \"y'all're\": \"you all are\",\n",
        "  \"y'all've\": \"you all have\",\n",
        "  \"you'd\": \"you had\",\n",
        "  \"you'd've\": \"you would have\",\n",
        "  \"you'll\": \"you you will\",\n",
        "  \"you'll've\": \"you you will have\",\n",
        "  \"you're\": \"you are\",\n",
        "  \"you've\": \"you have\"\n",
        "}\n",
        "\n",
        "c_re = re.compile('(%s)' % '|'.join(cList.keys()))\n",
        "\n",
        "def expandContractions(text, c_re=c_re):\n",
        "    def replace(match):\n",
        "        return cList[match.group(0)]\n",
        "    return c_re.sub(replace, text)"
      ],
      "execution_count": 19,
      "outputs": []
    },
    {
      "cell_type": "code",
      "metadata": {
        "id": "fB0sLoCVZus8"
      },
      "source": [
        "def clean_tweets(tweets):\n",
        "    cleaned_tweets = []\n",
        "    for tweet in tweets:\n",
        "        tweet = str(tweet)\n",
        "        # if url links then dont append to avoid news articles\n",
        "        # also check tweet length, save those > 10 (length of word \"depression\")\n",
        "        if re.match(\"(\\w+:\\/\\/\\S+)\", tweet) == None and len(tweet) > 10:\n",
        "            #remove hashtag, @mention, emoji and image URLs\n",
        "            tweet = ' '.join(re.sub(\"(@[A-Za-z0-9]+)|(\\#[A-Za-z0-9]+)|(<Emoji:.*>)|(pic\\.twitter\\.com\\/.*)\", \" \", tweet).split())\n",
        "            \n",
        "            #fix weirdly encoded texts\n",
        "            tweet = ftfy.fix_text(tweet)\n",
        "            \n",
        "            #expand contraction\n",
        "            tweet = expandContractions(tweet)\n",
        "\n",
        "            #remove punctuation\n",
        "            tweet = ' '.join(re.sub(\"([^0-9A-Za-z \\t])\", \" \", tweet).split())\n",
        "\n",
        "            #stop words\n",
        "            stop_words = set(stopwords.words('english'))\n",
        "            word_tokens = nltk.word_tokenize(tweet) \n",
        "            filtered_sentence = [w for w in word_tokens if not w in stop_words]\n",
        "            tweet = ' '.join(filtered_sentence)\n",
        "\n",
        "            #stemming words\n",
        "            tweet = PorterStemmer().stem(tweet)\n",
        "            \n",
        "            cleaned_tweets.append(tweet)\n",
        "\n",
        "    return cleaned_tweets"
      ],
      "execution_count": 20,
      "outputs": []
    },
    {
      "cell_type": "code",
      "metadata": {
        "id": "_2K9AhKCZ1zs"
      },
      "source": [
        "depressive_tweets_arr = [x for x in depressive_tweets_df[5]]\n",
        "random_tweets_arr = [x for x in random_tweets_df['SentimentText']]\n",
        "X_d = clean_tweets(depressive_tweets_arr)\n",
        "X_r = clean_tweets(random_tweets_arr)"
      ],
      "execution_count": 23,
      "outputs": []
    },
    {
      "cell_type": "markdown",
      "metadata": {
        "id": "xQJ7tWbMaU-J"
      },
      "source": [
        "***Tokenizing and Padding the Data***"
      ]
    },
    {
      "cell_type": "code",
      "metadata": {
        "id": "KmqQyTxAZ5L7"
      },
      "source": [
        "tokenizer = Tokenizer(num_words=20000)\n",
        "tokenizer.fit_on_texts(X_d + X_r)"
      ],
      "execution_count": 24,
      "outputs": []
    },
    {
      "cell_type": "code",
      "metadata": {
        "id": "T9fGOsvGaArH"
      },
      "source": [
        "sequences_d = tokenizer.texts_to_sequences(X_d)\n",
        "sequences_r = tokenizer.texts_to_sequences(X_r)"
      ],
      "execution_count": 25,
      "outputs": []
    },
    {
      "cell_type": "code",
      "metadata": {
        "colab": {
          "base_uri": "https://localhost:8080/"
        },
        "id": "i_ij6KKyaTZ8",
        "outputId": "0d551b8b-cf1f-46fe-a2bd-39f50ec76157"
      },
      "source": [
        "word_index = tokenizer.word_index\n",
        "print('Found %s unique tokens' % len(word_index))"
      ],
      "execution_count": 26,
      "outputs": [
        {
          "output_type": "stream",
          "text": [
            "Found 21548 unique tokens\n"
          ],
          "name": "stdout"
        }
      ]
    },
    {
      "cell_type": "code",
      "metadata": {
        "colab": {
          "base_uri": "https://localhost:8080/"
        },
        "id": "CCbqrvj-ailC",
        "outputId": "94602a16-14ce-4342-d406-99eae5accce5"
      },
      "source": [
        "data_d = pad_sequences(sequences_d, maxlen=140)\n",
        "data_r = pad_sequences(sequences_r, maxlen=140)\n",
        "print('Shape of data_d tensor:', data_d.shape)\n",
        "print('Shape of data_r tensor:', data_r.shape)"
      ],
      "execution_count": 27,
      "outputs": [
        {
          "output_type": "stream",
          "text": [
            "Shape of data_d tensor: (2308, 140)\n",
            "Shape of data_r tensor: (11911, 140)\n"
          ],
          "name": "stdout"
        }
      ]
    },
    {
      "cell_type": "markdown",
      "metadata": {
        "id": "By2N0tIca__o"
      },
      "source": [
        "***Embedding Matrix***"
      ]
    },
    {
      "cell_type": "code",
      "metadata": {
        "id": "xqo4ObwJarNE"
      },
      "source": [
        "nb_words = min(20000, len(word_index))\n",
        "\n",
        "embedding_matrix = np.zeros((nb_words, 300))\n",
        "\n",
        "for (word, idx) in word_index.items():\n",
        "    if word in word2vec.vocab and idx < 20000:\n",
        "        embedding_matrix[idx] = word2vec.word_vec(word)"
      ],
      "execution_count": 30,
      "outputs": []
    },
    {
      "cell_type": "markdown",
      "metadata": {
        "id": "7bbOk6JibD_R"
      },
      "source": [
        "***Splitting the data into traning and testing set***"
      ]
    },
    {
      "cell_type": "code",
      "metadata": {
        "id": "8reRkYHOawZe"
      },
      "source": [
        "# Assigning labels to the depressive tweets and random tweets data\n",
        "labels_d = np.array([1] * 3200)\n",
        "labels_r = np.array([0] * 12000)\n",
        "\n",
        "# Splitting the arrays into test (60%), validation (20%), and train data (20%)\n",
        "perm_d = np.random.permutation(len(data_d))\n",
        "idx_train_d = perm_d[:int(len(data_d)*(0.6))]\n",
        "idx_test_d = perm_d[int(len(data_d)*(0.6)):int(len(data_d)*(0.6+0.2))]\n",
        "idx_val_d = perm_d[int(len(data_d)*(0.6+0.2)):]\n",
        "\n",
        "perm_r = np.random.permutation(len(data_r))\n",
        "idx_train_r = perm_r[:int(len(data_r)*(0.6))]\n",
        "idx_test_r = perm_r[int(len(data_r)*(0.6)):int(len(data_r)*(0.6+0.2))]\n",
        "idx_val_r = perm_r[int(len(data_r)*(0.6+0.2)):]\n",
        "\n",
        "# Combine depressive tweets and random tweets arrays\n",
        "data_train = np.concatenate((data_d[idx_train_d], data_r[idx_train_r]))\n",
        "labels_train = np.concatenate((labels_d[idx_train_d], labels_r[idx_train_r]))\n",
        "data_test = np.concatenate((data_d[idx_test_d], data_r[idx_test_r]))\n",
        "labels_test = np.concatenate((labels_d[idx_test_d], labels_r[idx_test_r]))\n",
        "data_val = np.concatenate((data_d[idx_val_d], data_r[idx_val_r]))\n",
        "labels_val = np.concatenate((labels_d[idx_val_d], labels_r[idx_val_r]))\n",
        "\n",
        "# Shuffling\n",
        "perm_train = np.random.permutation(len(data_train))\n",
        "data_train = data_train[perm_train]\n",
        "labels_train = labels_train[perm_train]\n",
        "perm_test = np.random.permutation(len(data_test))\n",
        "data_test = data_test[perm_test]\n",
        "labels_test = labels_test[perm_test]\n",
        "perm_val = np.random.permutation(len(data_val))\n",
        "data_val = data_val[perm_val]\n",
        "labels_val = labels_val[perm_val]"
      ],
      "execution_count": 33,
      "outputs": []
    },
    {
      "cell_type": "markdown",
      "metadata": {
        "id": "sQXI-mzqcNBe"
      },
      "source": [
        "***Building the model***"
      ]
    },
    {
      "cell_type": "code",
      "metadata": {
        "id": "bZdwb-T2bP-1"
      },
      "source": [
        "model = Sequential()\n",
        "# Embedded layer\n",
        "model.add(Embedding(len(embedding_matrix), 300, weights=[embedding_matrix], \n",
        "                            input_length=140, trainable=False))\n",
        "# Convolutional Layer\n",
        "model.add(Conv1D(filters=32, kernel_size=3, padding='same', activation='relu'))\n",
        "model.add(MaxPooling1D(pool_size=2))\n",
        "model.add(Dropout(0.2))\n",
        "# LSTM Layer\n",
        "model.add(LSTM(300))\n",
        "model.add(Dropout(0.3))\n",
        "model.add(Dense(1, activation='sigmoid'))"
      ],
      "execution_count": 53,
      "outputs": []
    },
    {
      "cell_type": "code",
      "metadata": {
        "colab": {
          "base_uri": "https://localhost:8080/"
        },
        "id": "veNNIeCHb7vA",
        "outputId": "76354f19-ae9d-402e-df5d-b80c5d3e6cf8"
      },
      "source": [
        "model.compile(loss='binary_crossentropy', optimizer='nadam', metrics=['acc'])\n",
        "print(model.summary())"
      ],
      "execution_count": 54,
      "outputs": [
        {
          "output_type": "stream",
          "text": [
            "Model: \"sequential_3\"\n",
            "_________________________________________________________________\n",
            "Layer (type)                 Output Shape              Param #   \n",
            "=================================================================\n",
            "embedding_2 (Embedding)      (None, 140, 300)          6000000   \n",
            "_________________________________________________________________\n",
            "conv1d_2 (Conv1D)            (None, 140, 32)           28832     \n",
            "_________________________________________________________________\n",
            "max_pooling1d_2 (MaxPooling1 (None, 70, 32)            0         \n",
            "_________________________________________________________________\n",
            "dropout_4 (Dropout)          (None, 70, 32)            0         \n",
            "_________________________________________________________________\n",
            "lstm_2 (LSTM)                (None, 300)               399600    \n",
            "_________________________________________________________________\n",
            "dropout_5 (Dropout)          (None, 300)               0         \n",
            "_________________________________________________________________\n",
            "dense_2 (Dense)              (None, 1)                 301       \n",
            "=================================================================\n",
            "Total params: 6,428,733\n",
            "Trainable params: 428,733\n",
            "Non-trainable params: 6,000,000\n",
            "_________________________________________________________________\n",
            "None\n"
          ],
          "name": "stdout"
        }
      ]
    },
    {
      "cell_type": "markdown",
      "metadata": {
        "id": "mIk1GtzfcRat"
      },
      "source": [
        "***Traning the Model***"
      ]
    },
    {
      "cell_type": "code",
      "metadata": {
        "colab": {
          "base_uri": "https://localhost:8080/"
        },
        "id": "480Q8wzucISu",
        "outputId": "a4de70cd-7cad-495d-b7da-d7b9e06c2e4e"
      },
      "source": [
        "early_stop = EarlyStopping(monitor='acc', patience=3)\n",
        "\n",
        "hist = model.fit(data_train, labels_train, validation_data=(data_val, labels_val), epochs=20, batch_size=40, shuffle=True, callbacks=[early_stop])"
      ],
      "execution_count": 55,
      "outputs": [
        {
          "output_type": "stream",
          "text": [
            "Epoch 1/20\n",
            "214/214 [==============================] - 5s 13ms/step - loss: 0.2819 - acc: 0.9067 - val_loss: 0.0600 - val_acc: 0.9863\n",
            "Epoch 2/20\n",
            "214/214 [==============================] - 2s 11ms/step - loss: 0.0391 - acc: 0.9921 - val_loss: 0.0591 - val_acc: 0.9866\n",
            "Epoch 3/20\n",
            "214/214 [==============================] - 2s 11ms/step - loss: 0.0324 - acc: 0.9923 - val_loss: 0.0644 - val_acc: 0.9873\n",
            "Epoch 4/20\n",
            "214/214 [==============================] - 2s 11ms/step - loss: 0.0256 - acc: 0.9938 - val_loss: 0.0575 - val_acc: 0.9873\n",
            "Epoch 5/20\n",
            "214/214 [==============================] - 2s 11ms/step - loss: 0.0532 - acc: 0.9848 - val_loss: 0.0612 - val_acc: 0.9863\n",
            "Epoch 6/20\n",
            "214/214 [==============================] - 2s 11ms/step - loss: 0.0333 - acc: 0.9913 - val_loss: 0.0553 - val_acc: 0.9870\n",
            "Epoch 7/20\n",
            "214/214 [==============================] - 2s 11ms/step - loss: 0.0246 - acc: 0.9941 - val_loss: 0.0708 - val_acc: 0.9880\n",
            "Epoch 8/20\n",
            "214/214 [==============================] - 2s 11ms/step - loss: 0.0201 - acc: 0.9935 - val_loss: 0.0596 - val_acc: 0.9870\n",
            "Epoch 9/20\n",
            "214/214 [==============================] - 2s 11ms/step - loss: 0.0125 - acc: 0.9973 - val_loss: 0.0654 - val_acc: 0.9877\n",
            "Epoch 10/20\n",
            "214/214 [==============================] - 2s 11ms/step - loss: 0.0108 - acc: 0.9972 - val_loss: 0.0686 - val_acc: 0.9873\n",
            "Epoch 11/20\n",
            "214/214 [==============================] - 2s 11ms/step - loss: 0.0107 - acc: 0.9976 - val_loss: 0.0726 - val_acc: 0.9873\n",
            "Epoch 12/20\n",
            "214/214 [==============================] - 2s 11ms/step - loss: 0.0071 - acc: 0.9986 - val_loss: 0.0795 - val_acc: 0.9873\n",
            "Epoch 13/20\n",
            "214/214 [==============================] - 2s 11ms/step - loss: 0.0074 - acc: 0.9980 - val_loss: 0.0873 - val_acc: 0.9877\n",
            "Epoch 14/20\n",
            "214/214 [==============================] - 2s 11ms/step - loss: 0.0121 - acc: 0.9969 - val_loss: 0.0701 - val_acc: 0.9870\n",
            "Epoch 15/20\n",
            "214/214 [==============================] - 2s 11ms/step - loss: 0.0079 - acc: 0.9980 - val_loss: 0.0788 - val_acc: 0.9880\n",
            "Epoch 16/20\n",
            "214/214 [==============================] - 2s 11ms/step - loss: 0.0045 - acc: 0.9989 - val_loss: 0.0864 - val_acc: 0.9877\n",
            "Epoch 17/20\n",
            "214/214 [==============================] - 2s 11ms/step - loss: 0.0028 - acc: 0.9993 - val_loss: 0.0873 - val_acc: 0.9877\n",
            "Epoch 18/20\n",
            "214/214 [==============================] - 2s 11ms/step - loss: 0.0050 - acc: 0.9987 - val_loss: 0.0913 - val_acc: 0.9873\n",
            "Epoch 19/20\n",
            "214/214 [==============================] - 2s 11ms/step - loss: 0.0075 - acc: 0.9985 - val_loss: 0.0949 - val_acc: 0.9877\n",
            "Epoch 20/20\n",
            "214/214 [==============================] - 2s 11ms/step - loss: 0.0031 - acc: 0.9993 - val_loss: 0.0939 - val_acc: 0.9870\n"
          ],
          "name": "stdout"
        }
      ]
    },
    {
      "cell_type": "markdown",
      "metadata": {
        "id": "O-aQCKCSfy7_"
      },
      "source": [
        "***Tessting the Model***"
      ]
    },
    {
      "cell_type": "code",
      "metadata": {
        "colab": {
          "base_uri": "https://localhost:8080/"
        },
        "id": "RmkyrcGIc--T",
        "outputId": "168525dd-be1a-4a36-cff1-3055ded3b5cc"
      },
      "source": [
        "pred = model.predict(data_test)\n",
        "pred = np.round(pred.flatten())\n",
        "accuracy = accuracy_score(labels_test, pred)\n",
        "print(\"Accuracy: %.2f%%\" % (accuracy*100))"
      ],
      "execution_count": 57,
      "outputs": [
        {
          "output_type": "stream",
          "text": [
            "Accuracy: 99.09%\n"
          ],
          "name": "stdout"
        }
      ]
    },
    {
      "cell_type": "code",
      "metadata": {
        "colab": {
          "base_uri": "https://localhost:8080/"
        },
        "id": "V7X7eWk3f8wH",
        "outputId": "3ab4ebd2-85a4-4213-9680-a135afdbf05e"
      },
      "source": [
        "print(classification_report(labels_test, pred))"
      ],
      "execution_count": 59,
      "outputs": [
        {
          "output_type": "stream",
          "text": [
            "              precision    recall  f1-score   support\n",
            "\n",
            "           0       0.99      1.00      0.99      2382\n",
            "           1       0.98      0.96      0.97       462\n",
            "\n",
            "    accuracy                           0.99      2844\n",
            "   macro avg       0.99      0.98      0.98      2844\n",
            "weighted avg       0.99      0.99      0.99      2844\n",
            "\n"
          ],
          "name": "stdout"
        }
      ]
    },
    {
      "cell_type": "code",
      "metadata": {
        "id": "vaY7nGCngESN"
      },
      "source": [
        ""
      ],
      "execution_count": null,
      "outputs": []
    }
  ]
}